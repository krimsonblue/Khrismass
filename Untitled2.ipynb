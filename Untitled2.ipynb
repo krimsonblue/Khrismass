{
  "nbformat": 4,
  "nbformat_minor": 0,
  "metadata": {
    "colab": {
      "provenance": [],
      "authorship_tag": "ABX9TyNPxg+Idcje8hA1aARn7NBE",
      "include_colab_link": true
    },
    "kernelspec": {
      "name": "python3",
      "display_name": "Python 3"
    },
    "language_info": {
      "name": "python"
    }
  },
  "cells": [
    {
      "cell_type": "markdown",
      "metadata": {
        "id": "view-in-github",
        "colab_type": "text"
      },
      "source": [
        "<a href=\"https://colab.research.google.com/github/krimsonblue/Khrismass/blob/master/Untitled2.ipynb\" target=\"_parent\"><img src=\"https://colab.research.google.com/assets/colab-badge.svg\" alt=\"Open In Colab\"/></a>"
      ]
    },
    {
      "cell_type": "markdown",
      "source": [
        "#Creating the Application"
      ],
      "metadata": {
        "id": "LsU7snColl9e"
      }
    },
    {
      "cell_type": "markdown",
      "source": [
        "## Developing the code"
      ],
      "metadata": {
        "id": "S3byL2qqoQVy"
      }
    },
    {
      "cell_type": "code",
      "execution_count": 1,
      "metadata": {
        "id": "bbpa0hUQXWQ1",
        "colab": {
          "base_uri": "https://localhost:8080/"
        },
        "outputId": "f60b1746-abae-4d8a-f570-3ab34b8e460d"
      },
      "outputs": [
        {
          "output_type": "stream",
          "name": "stdout",
          "text": [
            "3\n"
          ]
        }
      ],
      "source": [
        "# Define a function to encapsulate task code that accepts\n",
        "# two pieces of information in boxes called variables\n",
        "# named Value1 and Value2\n",
        "def addSomething( value1 , value2 ):\n",
        "\n",
        "    # add the two values together and return the result\n",
        "    # to the caller\n",
        "    return value1 + value2\n",
        "\n",
        "# Call the addsomthing() function with two numbers to\n",
        "# add and then use print() to display the result.\n",
        "print (addSomething (1,2))"
      ]
    }
  ]
}