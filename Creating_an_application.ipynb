{
  "nbformat": 4,
  "nbformat_minor": 0,
  "metadata": {
    "colab": {
      "provenance": [],
      "authorship_tag": "ABX9TyPYn7RZ1wNNl5Y85OkdS5G4",
      "include_colab_link": true
    },
    "kernelspec": {
      "name": "python3",
      "display_name": "Python 3"
    },
    "language_info": {
      "name": "python"
    }
  },
  "cells": [
    {
      "cell_type": "markdown",
      "metadata": {
        "id": "view-in-github",
        "colab_type": "text"
      },
      "source": [
        "<a href=\"https://colab.research.google.com/github/krimsonblue/Khrismass/blob/master/Creating_an_application.ipynb\" target=\"_parent\"><img src=\"https://colab.research.google.com/assets/colab-badge.svg\" alt=\"Open In Colab\"/></a>"
      ]
    },
    {
      "cell_type": "code",
      "execution_count": 4,
      "metadata": {
        "colab": {
          "base_uri": "https://localhost:8080/"
        },
        "id": "Xv6sBXRVR6WY",
        "outputId": "e26e9d0f-d793-4c47-d18b-f7bb573975b3"
      },
      "outputs": [
        {
          "output_type": "stream",
          "name": "stdout",
          "text": [
            "3\n"
          ]
        }
      ],
      "source": [
        "# Define a function to encapsulate task code that accepts\n",
        "# two pieces of information in boxes called  variables\n",
        "# name value1 and value2\n",
        "def addSomthing (value1, value2):\n",
        "  # add the two values together and return the result\n",
        "  # to the caller\n",
        "    return value1 + value2\n",
        "\n",
        "# call the addSomthing() function with two numbers to\n",
        "# add and then use print() to display the result.\n",
        "print(addSomthing(1,2))"
      ]
    }
  ]
}